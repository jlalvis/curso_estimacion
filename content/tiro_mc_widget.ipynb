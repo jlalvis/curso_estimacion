{
 "cells": [
  {
   "cell_type": "code",
   "execution_count": 1,
   "id": "a3a4de08-fe80-46c4-9d96-653bca8eebdf",
   "metadata": {
    "tags": []
   },
   "outputs": [],
   "source": [
    "import numpy as np\n",
    "\n",
    "from plotly.graph_objects import Scatter, FigureWidget, Layout\n",
    "from ipywidgets import IntSlider, FloatSlider, HBox, VBox"
   ]
  },
  {
   "cell_type": "code",
   "execution_count": 2,
   "id": "4c231d9e",
   "metadata": {},
   "outputs": [],
   "source": [
    "def tiro(m, t):\n",
    "    y = m[0] + m[1] * t - (1/2) * m[2] * t**2\n",
    "    return y"
   ]
  },
  {
   "cell_type": "code",
   "execution_count": 3,
   "id": "ad64dd25",
   "metadata": {},
   "outputs": [],
   "source": [
    "# crear datos sintéticos:\n",
    "Ni = 11\n",
    "tobs = np.linspace(0, 2, Ni)\n",
    "mreal = np.array([2., 10., 9.8])\n",
    "\n",
    "sigmai = 0.2\n",
    "ruidoi = np.random.randn(len(tobs))\n",
    "yreal = tiro(mreal, tobs)\n",
    "yobsi = yreal + sigmai*ruidoi\n",
    "\n",
    "t = np.linspace(0, 2, 101)\n",
    "\n",
    "# matriz G:\n",
    "G = np.column_stack([np.ones(Ni), tobs, -0.5*tobs**2])\n",
    "\n",
    "mi = np.linalg.solve(G.T @ G, G.T @ yobsi)\n",
    "\n",
    "# Simulacion para inversion inicial:\n",
    "yi = tiro(mi, t)\n",
    "\n",
    "pi = np.random.permutation(Ni)"
   ]
  },
  {
   "cell_type": "code",
   "execution_count": 4,
   "id": "1d3ba341-d4f8-4892-a1af-ec5bd1874413",
   "metadata": {},
   "outputs": [],
   "source": [
    "sigma = FloatSlider(\n",
    "    value=sigmai,\n",
    "    min=0.1,\n",
    "    max=0.4,\n",
    "    step=0.02,\n",
    "    description='sigma:',\n",
    "    continuous_update=False\n",
    ")\n",
    "N = IntSlider(\n",
    "    value=Ni,\n",
    "    min=3,\n",
    "    max=11,\n",
    "    step=1,\n",
    "    description='N:',\n",
    "    continuous_update=False\n",
    ")"
   ]
  },
  {
   "cell_type": "code",
   "execution_count": 5,
   "id": "68e6b5e8",
   "metadata": {},
   "outputs": [],
   "source": [
    "container = HBox(children=[sigma, N])"
   ]
  },
  {
   "cell_type": "code",
   "execution_count": 23,
   "id": "a53a93ae",
   "metadata": {},
   "outputs": [],
   "source": [
    "# Assign an empty figure widget with two traces\n",
    "trace0 = Scatter(x=tobs, y=yreal, opacity=0.5, mode='lines', line=dict(color=\"#000000\", dash='dash'), name='real')\n",
    "trace1 = Scatter(x=tobs, y=yobsi, opacity=0.75, name='observado')\n",
    "trace2 = Scatter(x=t, y=yi, opacity=0.75, name='modelado')\n",
    "g = FigureWidget(data=[trace0, trace1, trace2],\n",
    "                    layout=Layout(\n",
    "                        title=dict(\n",
    "                            text='Tiro parabolico (minimos cuadrados)'\n",
    "                        ),\n",
    "                        yaxis_range = [0,8],\n",
    "                        height = 600,\n",
    "                        width = 600\n",
    "                    ))"
   ]
  },
  {
   "cell_type": "code",
   "execution_count": 24,
   "id": "80b5e3c0",
   "metadata": {},
   "outputs": [],
   "source": [
    "def response(change):\n",
    "    Ns = N.value\n",
    "    sigmas = sigma.value\n",
    "    pio = np.sort(pi[:Ns])\n",
    "    tobss = tobs[pio]\n",
    "    yobss = yreal[pio] + sigmas*ruidoi[pio]\n",
    "    G = np.column_stack([np.ones(Ns), tobss, -0.5*tobss**2])\n",
    "    mest = np.linalg.solve(G.T @ G, G.T @ yobss)\n",
    "    yi = tiro(mest,t)\n",
    "    with g.batch_update():\n",
    "        g.data[1].x = tobss\n",
    "        g.data[1].y = yobss\n",
    "        g.data[2].y = yi"
   ]
  },
  {
   "cell_type": "code",
   "execution_count": 25,
   "id": "8edd7631",
   "metadata": {},
   "outputs": [],
   "source": [
    "sigma.observe(response, names=\"value\")\n",
    "N.observe(response, names=\"value\")"
   ]
  },
  {
   "cell_type": "code",
   "execution_count": 26,
   "id": "9aa48126",
   "metadata": {},
   "outputs": [
    {
     "data": {
      "application/vnd.jupyter.widget-view+json": {
       "model_id": "1bbeaa0c17de430e875b9dfb88801d2f",
       "version_major": 2,
       "version_minor": 0
      },
      "text/plain": [
       "VBox(children=(HBox(children=(FloatSlider(value=0.30000000000000004, continuous_update=False, description='sig…"
      ]
     },
     "execution_count": 26,
     "metadata": {},
     "output_type": "execute_result"
    }
   ],
   "source": [
    "VBox([container,g])"
   ]
  },
  {
   "cell_type": "code",
   "execution_count": null,
   "id": "bac5f156-d45c-47a3-9914-74e7dccd8727",
   "metadata": {},
   "outputs": [],
   "source": []
  }
 ],
 "metadata": {
  "kernelspec": {
   "display_name": "Python 3 (ipykernel)",
   "language": "python",
   "name": "python3"
  },
  "language_info": {
   "codemirror_mode": {
    "name": "ipython",
    "version": 3
   },
   "file_extension": ".py",
   "mimetype": "text/x-python",
   "name": "python",
   "nbconvert_exporter": "python",
   "pygments_lexer": "ipython3",
   "version": "3.12.6"
  }
 },
 "nbformat": 4,
 "nbformat_minor": 5
}
