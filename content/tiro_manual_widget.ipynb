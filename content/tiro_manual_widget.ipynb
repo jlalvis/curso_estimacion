{
 "cells": [
  {
   "cell_type": "code",
   "execution_count": 1,
   "id": "a3a4de08-fe80-46c4-9d96-653bca8eebdf",
   "metadata": {
    "tags": []
   },
   "outputs": [],
   "source": [
    "from numpy import array, linspace\n",
    "from numpy.random import randn\n",
    "from plotly.graph_objects import Scatter, FigureWidget, Layout\n",
    "from ipywidgets import IntSlider, FloatSlider, HBox, VBox"
   ]
  },
  {
   "cell_type": "code",
   "execution_count": 2,
   "id": "4c231d9e",
   "metadata": {},
   "outputs": [],
   "source": [
    "def tiro(m, t):\n",
    "    y = m[0] + m[1] * t - (1/2) * m[2] * t**2\n",
    "    return y"
   ]
  },
  {
   "cell_type": "code",
   "execution_count": 3,
   "id": "ad64dd25",
   "metadata": {},
   "outputs": [],
   "source": [
    "# crear datos sintéticos:\n",
    "tobs = linspace(0, 2, 11)\n",
    "mreal = array([2., 10., 9.8])\n",
    "\n",
    "ruido = 0.2*randn(len(tobs))\n",
    "yobs = tiro(mreal, tobs) + ruido\n",
    "\n",
    "t = linspace(0, 2, 101)\n",
    "\n",
    "# modelo y simulacion inicial:\n",
    "mi = array([1.0, 9., 9.0])\n",
    "yi = tiro(mi, t)"
   ]
  },
  {
   "cell_type": "code",
   "execution_count": 4,
   "id": "1d3ba341-d4f8-4892-a1af-ec5bd1874413",
   "metadata": {},
   "outputs": [],
   "source": [
    "m1 = FloatSlider(\n",
    "    value=mi[0],\n",
    "    min=1.0,\n",
    "    max=3.0,\n",
    "    step=0.1,\n",
    "    description='m1:',\n",
    "    continuous_update=False\n",
    ")\n",
    "m2 = FloatSlider(\n",
    "    value=mi[1],\n",
    "    min=9.0,\n",
    "    max=11.0,\n",
    "    step=0.1,\n",
    "    description='m2:',\n",
    "    continuous_update=False\n",
    ")\n",
    "m3 = FloatSlider(\n",
    "    value=mi[2],\n",
    "    min=9.0,\n",
    "    max=10.0,\n",
    "    step=0.1,\n",
    "    description='m3:',\n",
    "    continuous_update=False\n",
    ")"
   ]
  },
  {
   "cell_type": "code",
   "execution_count": 5,
   "id": "68e6b5e8",
   "metadata": {},
   "outputs": [],
   "source": [
    "container = HBox(children=[m1, m2, m3])"
   ]
  },
  {
   "cell_type": "code",
   "execution_count": 6,
   "id": "a53a93ae",
   "metadata": {},
   "outputs": [],
   "source": [
    "# Assign an empty figure widget with two traces\n",
    "trace1 = Scatter(x=tobs, y=yobs, opacity=0.75, name='observado')\n",
    "trace2 = Scatter(x=t, y=yi, opacity=0.75, name='modelado')\n",
    "g = FigureWidget(data=[trace1, trace2],\n",
    "                    layout=Layout(\n",
    "                        title=dict(\n",
    "                            text='Tiro parabolico (prueba y error)'\n",
    "                        ),\n",
    "                        yaxis_range = [0,8],\n",
    "                        height = 600,\n",
    "                        width = 600\n",
    "                    ))"
   ]
  },
  {
   "cell_type": "code",
   "execution_count": 7,
   "id": "80b5e3c0",
   "metadata": {},
   "outputs": [],
   "source": [
    "def response(change):\n",
    "    m = array([m1.value, m2.value, m3.value])\n",
    "    yi = tiro(m,t)\n",
    "    with g.batch_update():\n",
    "        g.data[1].y = yi"
   ]
  },
  {
   "cell_type": "code",
   "execution_count": 8,
   "id": "8edd7631",
   "metadata": {},
   "outputs": [],
   "source": [
    "m1.observe(response, names=\"value\")\n",
    "m2.observe(response, names=\"value\")\n",
    "m3.observe(response, names=\"value\")"
   ]
  },
  {
   "cell_type": "code",
   "execution_count": 9,
   "id": "9aa48126",
   "metadata": {},
   "outputs": [
    {
     "data": {
      "application/vnd.jupyter.widget-view+json": {
       "model_id": "7ebc6eafafa54b98b41b1b5ebe72e983",
       "version_major": 2,
       "version_minor": 0
      },
      "text/plain": [
       "VBox(children=(HBox(children=(FloatSlider(value=1.0, continuous_update=False, description='m1:', max=3.0, min=…"
      ]
     },
     "execution_count": 9,
     "metadata": {},
     "output_type": "execute_result"
    }
   ],
   "source": [
    "VBox([container,g])"
   ]
  },
  {
   "cell_type": "code",
   "execution_count": null,
   "id": "e9a05410-5297-4e8c-9ba4-b5c57c0b1775",
   "metadata": {},
   "outputs": [],
   "source": []
  }
 ],
 "metadata": {
  "kernelspec": {
   "display_name": "Python 3 (ipykernel)",
   "language": "python",
   "name": "python3"
  },
  "language_info": {
   "codemirror_mode": {
    "name": "ipython",
    "version": 3
   },
   "file_extension": ".py",
   "mimetype": "text/x-python",
   "name": "python",
   "nbconvert_exporter": "python",
   "pygments_lexer": "ipython3",
   "version": "3.12.6"
  }
 },
 "nbformat": 4,
 "nbformat_minor": 5
}
